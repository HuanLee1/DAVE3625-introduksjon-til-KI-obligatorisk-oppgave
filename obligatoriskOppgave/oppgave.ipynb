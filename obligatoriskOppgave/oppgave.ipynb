{
 "cells": [
  {
   "cell_type": "code",
   "execution_count": 26,
   "id": "f892daee",
   "metadata": {},
   "outputs": [
    {
     "name": "stdout",
     "output_type": "stream",
     "text": [
      "Antall rader og kolonner (5000, 12)\n",
      " \n",
      "-------------her er de første 10 linjene til datasettet-------------\n",
      "  Item_Identifier  Item_Weight Item_Fat_Content  Item_Visibility  \\\n",
      "0           FDA15        9.300          Low Fat         0.016047   \n",
      "1           DRC01        5.920          Regular         0.019278   \n",
      "2           FDN15       17.500          Low Fat         0.016760   \n",
      "3           FDX07       19.200          Regular         0.000000   \n",
      "4           NCD19        8.930          Low Fat         0.000000   \n",
      "5           FDP36       10.395          Regular         0.000000   \n",
      "6           FDO10       13.650          Regular         0.012741   \n",
      "7           FDP10          NaN          Low Fat         0.127470   \n",
      "8           FDH17       16.200          Regular         0.016687   \n",
      "9           FDU28       19.200          Regular         0.094450   \n",
      "\n",
      "               Item_Type  Item_MRP Outlet_Identifier  \\\n",
      "0                  Dairy  249.8092            OUT049   \n",
      "1            Soft Drinks   48.2692            OUT018   \n",
      "2                   Meat  141.6180            OUT049   \n",
      "3  Fruits and Vegetables  182.0950            OUT010   \n",
      "4              Household   53.8614            OUT013   \n",
      "5           Baking Goods   51.4008            OUT018   \n",
      "6            Snack Foods   57.6588            OUT013   \n",
      "7            Snack Foods  107.7622            OUT027   \n",
      "8           Frozen Foods   96.9726            OUT045   \n",
      "9           Frozen Foods  187.8214            OUT017   \n",
      "\n",
      "   Outlet_Establishment_Year Outlet_Size Outlet_Location_Type  \\\n",
      "0                       1999      Medium               Tier 1   \n",
      "1                       2009      Medium               Tier 3   \n",
      "2                       1999      Medium               Tier 1   \n",
      "3                       1998         NaN               Tier 3   \n",
      "4                       1987        High               Tier 3   \n",
      "5                       2009      Medium               Tier 3   \n",
      "6                       1987        High               Tier 3   \n",
      "7                       1985      Medium               Tier 3   \n",
      "8                       2002         NaN               Tier 2   \n",
      "9                       2007         NaN               Tier 2   \n",
      "\n",
      "         Outlet_Type  Item_Outlet_Sales  \n",
      "0  Supermarket Type1          3735.1380  \n",
      "1  Supermarket Type2           443.4228  \n",
      "2  Supermarket Type1          2097.2700  \n",
      "3      Grocery Store           732.3800  \n",
      "4  Supermarket Type1           994.7052  \n",
      "5  Supermarket Type2           556.6088  \n",
      "6  Supermarket Type1           343.5528  \n",
      "7  Supermarket Type3          4022.7636  \n",
      "8  Supermarket Type1          1076.5986  \n",
      "9  Supermarket Type1          4710.5350  \n",
      " \n",
      "-------------her er de siste 10 linjene til datasettet-------------\n",
      "     Item_Identifier  Item_Weight Item_Fat_Content  Item_Visibility  \\\n",
      "4990           FDE46        18.60          Low Fat         0.015859   \n",
      "4991           NCQ53        17.60          Low Fat         0.018905   \n",
      "4992           NCN42        20.25          Low Fat         0.014281   \n",
      "4993           DRH11         5.98          Low Fat         0.075675   \n",
      "4994           NCI42        18.75          Low Fat         0.010382   \n",
      "4995           FDT07         5.82          Regular         0.077476   \n",
      "4996           DRL60         8.52          Low Fat         0.027059   \n",
      "4997           FDG20        15.50          Regular         0.126200   \n",
      "4998           FDF56        16.70          Regular         0.119462   \n",
      "4999           FDV33         9.60          Regular         0.027455   \n",
      "\n",
      "                  Item_Type  Item_MRP Outlet_Identifier  \\\n",
      "4990            Snack Foods  152.9366            OUT017   \n",
      "4991     Health and Hygiene  234.6590            OUT046   \n",
      "4992              Household  148.0418            OUT018   \n",
      "4993            Hard Drinks   53.3614            OUT049   \n",
      "4994              Household  207.8954            OUT049   \n",
      "4995  Fruits and Vegetables  255.3330            OUT045   \n",
      "4996            Soft Drinks  153.3682            OUT046   \n",
      "4997  Fruits and Vegetables  178.4028            OUT018   \n",
      "4998  Fruits and Vegetables  182.7976            OUT046   \n",
      "4999            Snack Foods  258.1304            OUT018   \n",
      "\n",
      "      Outlet_Establishment_Year Outlet_Size Outlet_Location_Type  \\\n",
      "4990                       2007         NaN               Tier 2   \n",
      "4991                       1997       Small               Tier 1   \n",
      "4992                       2009      Medium               Tier 3   \n",
      "4993                       1999      Medium               Tier 1   \n",
      "4994                       1999      Medium               Tier 1   \n",
      "4995                       2002         NaN               Tier 2   \n",
      "4996                       1997       Small               Tier 1   \n",
      "4997                       2009      Medium               Tier 3   \n",
      "4998                       1997       Small               Tier 1   \n",
      "4999                       2009      Medium               Tier 3   \n",
      "\n",
      "            Outlet_Type  Item_Outlet_Sales  \n",
      "4990  Supermarket Type1           453.4098  \n",
      "4991  Supermarket Type1          8508.9240  \n",
      "4992  Supermarket Type2          1177.1344  \n",
      "4993  Supermarket Type1           331.5684  \n",
      "4994  Supermarket Type1          2292.3494  \n",
      "4995  Supermarket Type1          4870.3270  \n",
      "4996  Supermarket Type1           914.8092  \n",
      "4997  Supermarket Type2          1239.7196  \n",
      "4998  Supermarket Type1          1810.9760  \n",
      "4999  Supermarket Type2          2324.9736  \n"
     ]
    }
   ],
   "source": [
    "# 1. Read the CSV file in Pandas and create a DataFrame named Grc_df. What is the number of\n",
    "# rows and columns in Grc_df? Print the first 10 and last 10 rows of Grc_df\n",
    "import pandas as pd\n",
    "\n",
    "Grc_df = pd.read_csv(\"Grocery_dataset.csv\")\n",
    "\n",
    "print(\"Antall rader og kolonner\", Grc_df.shape)\n",
    "\n",
    "print(\" \")\n",
    "print(\"-------------her er de første 10 linjene til datasettet-------------\")\n",
    "print(Grc_df.head(10))\n",
    "\n",
    "print(\" \")\n",
    "print(\"-------------her er de siste 10 linjene til datasettet-------------\")\n",
    "print(Grc_df.tail(10))"
   ]
  },
  {
   "cell_type": "code",
   "execution_count": 62,
   "id": "9e7f8845",
   "metadata": {},
   "outputs": [
    {
     "name": "stdout",
     "output_type": "stream",
     "text": [
      "Antall rader og kolonner (5000, 12)\n",
      "Alle nullverdier: \n",
      "Item_Identifier                 0\n",
      "Item_Weight                   818\n",
      "Item_Fat_Content                0\n",
      "Item_Visibility                 0\n",
      "Item_Type                       0\n",
      "Item_MRP                        0\n",
      "Outlet_Identifier               0\n",
      "Outlet_Establishment_Year       0\n",
      "Outlet_Size                  1439\n",
      "Outlet_Location_Type            0\n",
      "Outlet_Type                     0\n",
      "Item_Outlet_Sales               0\n",
      "dtype: int64\n",
      "\n",
      "Etter å ha fyllt nullverdiene\n",
      "Item_Identifier              0\n",
      "Item_Weight                  0\n",
      "Item_Fat_Content             0\n",
      "Item_Visibility              0\n",
      "Item_Type                    0\n",
      "Item_MRP                     0\n",
      "Outlet_Identifier            0\n",
      "Outlet_Establishment_Year    0\n",
      "Outlet_Size                  0\n",
      "Outlet_Location_Type         0\n",
      "Outlet_Type                  0\n",
      "Item_Outlet_Sales            0\n",
      "dtype: int64\n"
     ]
    }
   ],
   "source": [
    "# 2. Are there any null values in the Grc_df? If yes, then in which columns and how many?\n",
    "# Finally, handle these null values using any strategy shown during the labs.\n",
    "\n",
    "import pandas as pd\n",
    "\n",
    "Grc_df = pd.read_csv(\"Grocery_dataset.csv\")\n",
    "\n",
    "print(\"Antall rader og kolonner\", Grc_df.shape)\n",
    "\n",
    "print(\"Alle nullverdier: \")\n",
    "print(Grc_df.isnull().sum())\n",
    "\n",
    "print(\"\\nEtter å ha fyllt nullverdiene\")\n",
    "Grc_df[\"Item_Weight\"] = Grc_df[\"Item_Weight\"].fillna(Grc_df[\"Item_Weight\"].median())\n",
    "Grc_df[\"Outlet_Size\"] = Grc_df[\"Outlet_Size\"].fillna(\"Unknown Size\")\n",
    "\n",
    "print(Grc_df.isnull().sum())\n"
   ]
  },
  {
   "cell_type": "code",
   "execution_count": null,
   "id": "dfb6a26a",
   "metadata": {},
   "outputs": [
    {
     "name": "stdout",
     "output_type": "stream",
     "text": [
      "['Medium' nan 'High' 'Small']\n",
      "['Medium' 'Unknown Size' 'High' 'Small']\n"
     ]
    }
   ],
   "source": [
    "# 3. How many unique Outlet Sizes are there in the Grc_df? Which outlet size is maximum, and\n",
    "# which is minimum?\n",
    "\n",
    "import pandas as pd\n",
    "\n",
    "Grc_df = pd.read_csv(\"Grocery_dataset.csv\")\n",
    "\n",
    "print(Grc_df[\"Outlet_Size\"].unique())\n",
    "\n",
    "# oppgaven tidligere så fylte jeg inn nullverdiene med \"Unknown size\", de ulike størrelsene i Grc_df vil da se ut som\n",
    "\n",
    "Grc_df[\"Outlet_Size\"] = Grc_df[\"Outlet_Size\"].fillna(\"Unknown Size\")\n",
    "print(Grc_df[\"Outlet_Size\"].unique())\n",
    "\n",
    "# High er maximum outlet size og small er minimum outlet size\n",
    "# Unknown size er gitt til det som har nullverdi i datasettet"
   ]
  },
  {
   "cell_type": "code",
   "execution_count": null,
   "id": "fc7f8e0d",
   "metadata": {},
   "outputs": [
    {
     "name": "stdout",
     "output_type": "stream",
     "text": [
      "['Low Fat' 'Regular' 'low fat' 'LF' 'reg']\n",
      "\n",
      "Etter å ha fikset på de ulike tittlene med samme betydning\n",
      "['Low Fat' 'Regular']\n"
     ]
    }
   ],
   "source": [
    "# 4. How many unique Item Fat Content types are in the Grc_df? List them. Do you see any\n",
    "# issues with the Item Fat Content types? If yes, then handle this issue.\n",
    "\n",
    "import pandas as pd\n",
    "\n",
    "Grc_df = pd.read_csv(\"Grocery_dataset.csv\")\n",
    "\n",
    "print(Grc_df[\"Item_Fat_Content\"].unique())\n",
    "\n",
    "# Problemet er at Low fat, low fat og LF sees på ulike verdier, vi må gruppere dem slik at Low fat = low fat & LF\n",
    "# Samme gjelder med Regular & Reg\n",
    "\n",
    "Grc_df[\"Item_Fat_Content\"] = Grc_df[\"Item_Fat_Content\"].replace({'low fat' : 'Low Fat', 'LF' : 'Low Fat', 'Low fat' : 'Low fat', 'reg' : 'Regular'})\n",
    "print(\"\\nEtter å ha fikset på de ulike tittlene med samme betydning\")\n",
    "print(Grc_df[\"Item_Fat_Content\"].unique())\n"
   ]
  },
  {
   "cell_type": "code",
   "execution_count": 75,
   "id": "48faaa49",
   "metadata": {},
   "outputs": [
    {
     "name": "stdout",
     "output_type": "stream",
     "text": [
      "   Item_Weight Item_Fat_Content  Item_Visibility              Item_Type  \\\n",
      "0         9.30          Low Fat         0.016047                  Dairy   \n",
      "1         5.92          Regular         0.019278            Soft Drinks   \n",
      "2        17.50          Low Fat         0.016760                   Meat   \n",
      "3        19.20          Regular         0.000000  Fruits and Vegetables   \n",
      "4         8.93          Low Fat         0.000000              Household   \n",
      "\n",
      "   Item_MRP  Outlet_Establishment_Year Outlet_Size Outlet_Location_Type  \\\n",
      "0  249.8092                       1999      Medium               Tier 1   \n",
      "1   48.2692                       2009      Medium               Tier 3   \n",
      "2  141.6180                       1999      Medium               Tier 1   \n",
      "3  182.0950                       1998         NaN               Tier 3   \n",
      "4   53.8614                       1987        High               Tier 3   \n",
      "\n",
      "         Outlet_Type  Item_Outlet_Sales  \n",
      "0  Supermarket Type1          3735.1380  \n",
      "1  Supermarket Type2           443.4228  \n",
      "2  Supermarket Type1          2097.2700  \n",
      "3      Grocery Store           732.3800  \n",
      "4  Supermarket Type1           994.7052  \n"
     ]
    }
   ],
   "source": [
    "# 5. Drop the columns having index values of 0, 6 and create a new DataFrame Grc_new_df.\n",
    "\n",
    "\n",
    "import pandas as pd\n",
    "\n",
    "Grc_df = pd.read_csv(\"Grocery_dataset.csv\")\n",
    "\n",
    "# new DataFrame Grc_new_df\n",
    "Grc_new_df = Grc_df.drop(Grc_df.columns[[0, 6]], axis=1)\n",
    "print(Grc_new_df.head())\n"
   ]
  },
  {
   "cell_type": "code",
   "execution_count": 70,
   "id": "82b24eda",
   "metadata": {},
   "outputs": [
    {
     "name": "stdout",
     "output_type": "stream",
     "text": [
      "['Supermarket Type1' 'Supermarket Type2' 'Grocery Store'\n",
      " 'Supermarket Type3']\n",
      "\n",
      "-----------------------------Liste av SubType_1----------------------------------\n",
      "Outlet_Type\n",
      "Supermarket Type1    3328\n",
      "Supermarket Type3     538\n",
      "Supermarket Type2     526\n",
      "Name: count, dtype: int64\n",
      "\n",
      "-----------------------------Liste av SubType_2----------------------------------\n",
      "Outlet_Type\n",
      "Grocery Store    608\n",
      "Name: count, dtype: int64\n"
     ]
    }
   ],
   "source": [
    "# 6. Using different Supermarket type listed in the column Outlet_Type create two different\n",
    "# DataFrames from Grc_new_df. Name these DataFrames as SupType_1 and SupType_2.\n",
    "\n",
    "import pandas as pd\n",
    "\n",
    "Grc_df = pd.read_csv(\"Grocery_dataset.csv\")\n",
    "\n",
    "# new DataFrame Grc_new_df\n",
    "Grc_new_df = Grc_df.drop(Grc_df.columns[[0, 6]], axis=1)\n",
    "\n",
    "print(Grc_new_df[\"Outlet_Type\"].unique())\n",
    "# ['Supermarket Type1' 'Supermarket Type2' 'Grocery Store', 'Supermarket Type3']\n",
    "# Da deler vi dem i to ulike subtypes: SubType_1 for supermarkets & SubType_2 for Grtocery stores\n",
    "\n",
    "SubType_1 = Grc_new_df[Grc_new_df[\"Outlet_Type\"].isin([\"Supermarket Type1\", \"Supermarket Type2\", \"Supermarket Type3\"])]\n",
    "SubType_2 = Grc_new_df[Grc_new_df[\"Outlet_Type\"] == \"Grocery Store\"]\n",
    "\n",
    "print(\"\\n-----------------------------Liste av SubType_1----------------------------------\")\n",
    "print(SubType_1[\"Outlet_Type\"].value_counts())\n",
    "\n",
    "print(\"\\n-----------------------------Liste av SubType_2----------------------------------\")\n",
    "print(SubType_2[\"Outlet_Type\"].value_counts())\n"
   ]
  },
  {
   "cell_type": "code",
   "execution_count": null,
   "id": "943b84b5",
   "metadata": {},
   "outputs": [],
   "source": [
    "# 7. Using Seaborn (“ggplot style”) create a (2,1) subplot of a box plot showing 5-point\n",
    "# summary of the column Item_MRP for SupType_1 and SupType_2. Which Outlet Type has\n",
    "# a higher median MRP? Are there any outliers?"
   ]
  },
  {
   "cell_type": "code",
   "execution_count": null,
   "id": "e94cb25c",
   "metadata": {},
   "outputs": [],
   "source": [
    "# 8. Concatenate the DataFrames SupType_1 and SupType_2 to create a new DataFrame\n",
    "# Grc_Concat_df and sort it in ascending order based on the column Item_Outlet_Sales.\n",
    "# What is the Outlet_Location_type of the store with the lowest sales?"
   ]
  },
  {
   "cell_type": "code",
   "execution_count": null,
   "id": "c7d1334e",
   "metadata": {},
   "outputs": [],
   "source": [
    "# 9. Using columns Outlet_Size and Outlet_Location_Type to create a multiple index for\n",
    "# Grc_Concat_df."
   ]
  },
  {
   "cell_type": "code",
   "execution_count": null,
   "id": "cb6d41f0",
   "metadata": {},
   "outputs": [],
   "source": [
    "# 10. Cut the column Item_Weight of Grc_Concat_df into 10 buckets and compute each bucket's\n",
    "# mean, minimum, maximum, and count.\n"
   ]
  }
 ],
 "metadata": {
  "kernelspec": {
   "display_name": "oblig1",
   "language": "python",
   "name": "python3"
  },
  "language_info": {
   "codemirror_mode": {
    "name": "ipython",
    "version": 3
   },
   "file_extension": ".py",
   "mimetype": "text/x-python",
   "name": "python",
   "nbconvert_exporter": "python",
   "pygments_lexer": "ipython3",
   "version": "3.12.11"
  }
 },
 "nbformat": 4,
 "nbformat_minor": 5
}
